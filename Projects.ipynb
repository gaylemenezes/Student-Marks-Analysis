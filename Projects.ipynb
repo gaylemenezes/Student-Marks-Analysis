{
 "cells": [
  {
   "cell_type": "code",
   "execution_count": 3,
   "id": "7b4307b9-a7e2-4bfb-beab-cc2d4ed3c1e0",
   "metadata": {},
   "outputs": [
    {
     "name": "stdin",
     "output_type": "stream",
     "text": [
      "Enter number of Students 2\n",
      "Enter Marks for student 1: 78\n",
      "Enter Marks for student 2: 95\n"
     ]
    },
    {
     "name": "stdout",
     "output_type": "stream",
     "text": [
      "Student marks [78 95]\n"
     ]
    }
   ],
   "source": [
    "#Student Marks Analysis Using Numpy\n",
    "\n",
    "import numpy as np\n",
    "import matplotlib.pyplot as plt\n",
    "\n",
    "user_input=int(input(\"Enter number of Students\"))\n",
    "marks=np.array([int(input(f\"Enter Marks for student {i+1}:\")) for i in range(user_input)])\n",
    "print(\"Student marks\", marks)"
   ]
  },
  {
   "cell_type": "code",
   "execution_count": 7,
   "id": "9e6ea36f-2350-4bac-a909-73b68e6b51d7",
   "metadata": {},
   "outputs": [
    {
     "name": "stdout",
     "output_type": "stream",
     "text": [
      "Mean of Mark of Students is: 86.5\n"
     ]
    }
   ],
   "source": [
    "mean=np.mean(marks)\n",
    "print('Mean of Marks of Students is:', mean)"
   ]
  },
  {
   "cell_type": "code",
   "execution_count": 11,
   "id": "b5d8acf6-3100-42ff-8522-ab8e5c1dd8db",
   "metadata": {},
   "outputs": [
    {
     "name": "stdout",
     "output_type": "stream",
     "text": [
      "Median of Marks of Students is: 86.5\n"
     ]
    }
   ],
   "source": [
    "median=np.median(marks)\n",
    "print('Median of Marks of Students is:', median)"
   ]
  },
  {
   "cell_type": "code",
   "execution_count": 13,
   "id": "a52d39bd-5866-4924-b476-83b2b053dea4",
   "metadata": {},
   "outputs": [
    {
     "name": "stdout",
     "output_type": "stream",
     "text": [
      "Variance of Marks of Students is: 72.25\n"
     ]
    }
   ],
   "source": [
    "variance=np.var(marks)\n",
    "print('Variance of Marks of Students is:', variance)"
   ]
  },
  {
   "cell_type": "code",
   "execution_count": 15,
   "id": "082b4547-97e7-44d8-ba66-e746cba65885",
   "metadata": {},
   "outputs": [
    {
     "name": "stdout",
     "output_type": "stream",
     "text": [
      "Standard Deviation of Marks of Student is: 8.5\n"
     ]
    }
   ],
   "source": [
    "standard_deviation=np.std(marks)\n",
    "print('Standard Deviation of Marks of Student is:', standard_deviation)"
   ]
  },
  {
   "cell_type": "code",
   "execution_count": 17,
   "id": "026965f3-459f-414c-b9f5-1457c879ea09",
   "metadata": {},
   "outputs": [
    {
     "name": "stdout",
     "output_type": "stream",
     "text": [
      "Maximum of student marks is: 95\n"
     ]
    }
   ],
   "source": [
    "max_marks=np.max(marks)\n",
    "print('Maximum of student marks is:', max_marks)"
   ]
  },
  {
   "cell_type": "code",
   "execution_count": 19,
   "id": "26d65234-2188-400d-9d73-ca330612ae3d",
   "metadata": {},
   "outputs": [
    {
     "name": "stdout",
     "output_type": "stream",
     "text": [
      "Minimum of students marks is: 78\n"
     ]
    }
   ],
   "source": [
    "min_marks=np.min(marks)\n",
    "print('Minimum of students marks is:', min_marks)"
   ]
  },
  {
   "cell_type": "code",
   "execution_count": null,
   "id": "c3aa5742-52ca-43e0-b18c-0096e56e86f4",
   "metadata": {},
   "outputs": [],
   "source": []
  },
  {
   "cell_type": "code",
   "execution_count": null,
   "id": "f089f714-582d-4099-8e7d-5913dca64ea2",
   "metadata": {},
   "outputs": [],
   "source": [
    "#Analysing Student Marks with an Excel data set"
   ]
  },
  {
   "cell_type": "code",
   "execution_count": 76,
   "id": "ceea8603-57a8-4feb-b45b-833765aadfb6",
   "metadata": {},
   "outputs": [],
   "source": [
    "import pandas as pd\n",
    "import numpy as np\n",
    "import matplotlib.pyplot as plt"
   ]
  },
  {
   "cell_type": "code",
   "execution_count": 77,
   "id": "2ba59a9e-b8d1-4fb3-9336-aca5b744035e",
   "metadata": {},
   "outputs": [],
   "source": [
    "file_path = r\"C:\\Users\\asus\\Desktop\\Gayle Python\\marks.xlsx\"  # Update this"
   ]
  },
  {
   "cell_type": "code",
   "execution_count": 80,
   "id": "60a12a75-5f81-4d30-996c-afc3f00d0ef9",
   "metadata": {},
   "outputs": [],
   "source": [
    "df = pd.read_excel(file_path, engine=\"openpyxl\", skiprows=4) "
   ]
  },
  {
   "cell_type": "code",
   "execution_count": 82,
   "id": "1cbc3c5f-2776-4873-9787-450c46d6eba6",
   "metadata": {},
   "outputs": [
    {
     "name": "stdout",
     "output_type": "stream",
     "text": [
      "Index(['Unnamed: 0', 'Unnamed: 1', 'Unnamed: 2', 'Student', 'Marks'], dtype='object')\n"
     ]
    }
   ],
   "source": [
    "print(df.columns)"
   ]
  },
  {
   "cell_type": "code",
   "execution_count": 84,
   "id": "03135024-f31e-4ff2-bdca-aae7851c28f5",
   "metadata": {},
   "outputs": [
    {
     "name": "stdout",
     "output_type": "stream",
     "text": [
      "   Unnamed: 0  Unnamed: 1  Unnamed: 2  Student  Marks\n",
      "0         NaN         NaN         NaN    Alice     85\n",
      "1         NaN         NaN         NaN      Bob     90\n",
      "2         NaN         NaN         NaN  Charlie     78\n",
      "3         NaN         NaN         NaN    David     88\n"
     ]
    }
   ],
   "source": [
    "print(df.head())"
   ]
  },
  {
   "cell_type": "code",
   "execution_count": 86,
   "id": "4f28139d-6295-404c-a87c-a3f2ecf534e9",
   "metadata": {},
   "outputs": [],
   "source": [
    "marks=np.array(df[\"Marks\"])"
   ]
  },
  {
   "cell_type": "code",
   "execution_count": 88,
   "id": "cb653a15-6af0-49ec-bbf2-d504147cba0c",
   "metadata": {},
   "outputs": [
    {
     "name": "stdout",
     "output_type": "stream",
     "text": [
      "Mean of Marks of Students is: 85.25\n"
     ]
    }
   ],
   "source": [
    "mean=np.mean(marks)\n",
    "print('Mean of Marks of Students is:', mean)"
   ]
  },
  {
   "cell_type": "code",
   "execution_count": 90,
   "id": "594db0a5-f38b-4aa8-b91e-7733f75fa539",
   "metadata": {},
   "outputs": [
    {
     "name": "stdout",
     "output_type": "stream",
     "text": [
      "Median of Marks of Students is: 86.5\n"
     ]
    }
   ],
   "source": [
    "median=np.median(marks)\n",
    "print('Median of Marks of Students is:', median)"
   ]
  },
  {
   "cell_type": "code",
   "execution_count": 92,
   "id": "daca301f-3bb1-4396-8812-b806fde6c93a",
   "metadata": {},
   "outputs": [
    {
     "name": "stdout",
     "output_type": "stream",
     "text": [
      "Variance of Marks of Students is: 20.6875\n"
     ]
    }
   ],
   "source": [
    "variance=np.var(marks)\n",
    "print('Variance of Marks of Students is:', variance)"
   ]
  },
  {
   "cell_type": "code",
   "execution_count": 94,
   "id": "6a3c5384-7aa9-4e47-99f1-eeba06cb2a34",
   "metadata": {},
   "outputs": [
    {
     "name": "stdout",
     "output_type": "stream",
     "text": [
      "Standard Deviation of Marks of Student is: 4.548351349665063\n"
     ]
    }
   ],
   "source": [
    "standard_deviation=np.std(marks)\n",
    "print('Standard Deviation of Marks of Student is:', standard_deviation)"
   ]
  },
  {
   "cell_type": "code",
   "execution_count": 96,
   "id": "1d3e8f20-5c06-46e2-b8ed-216fc573d98f",
   "metadata": {},
   "outputs": [
    {
     "name": "stdout",
     "output_type": "stream",
     "text": [
      "Maximum of student marks is: 90\n"
     ]
    }
   ],
   "source": [
    "max_marks=np.max(marks)\n",
    "print('Maximum of student marks is:', max_marks)"
   ]
  },
  {
   "cell_type": "code",
   "execution_count": 98,
   "id": "21ee29b4-4c52-44a9-abd8-e04a202c9eab",
   "metadata": {},
   "outputs": [
    {
     "name": "stdout",
     "output_type": "stream",
     "text": [
      "Minimum of students marks is: 78\n"
     ]
    }
   ],
   "source": [
    "min_marks=np.min(marks)\n",
    "print('Minimum of students marks is:', min_marks)"
   ]
  },
  {
   "cell_type": "code",
   "execution_count": null,
   "id": "370f0e24-a0c7-4e1d-ac1b-efeec5791f5b",
   "metadata": {},
   "outputs": [],
   "source": [
    "plt.figure(figsize=(8,5))"
   ]
  },
  {
   "cell_type": "code",
   "execution_count": 111,
   "id": "3af27a55-3f6a-4091-bbf0-a52aff367c9a",
   "metadata": {},
   "outputs": [
    {
     "data": {
      "image/png": "[encoded data removed]",
      "text/plain": [
       "<Figure size 640x480 with 1 Axes>"
      ]
     },
     "metadata": {},
     "output_type": "display_data"
    }
   ],
   "source": [
    "plt.hist(marks, bins=4, color=\"blue\", edgecolor=\"black\", alpha=0.7)\n",
    "plt.xlabel('Marks Range')\n",
    "plt.ylabel('Number of Students')\n",
    "plt.title(\"Marks Distribution\")\n",
    "plt.grid(axis='y', linestyle='--', alpha=0.7)\n",
    "plt.show()"
   ]
  },
  {
   "cell_type": "code",
   "execution_count": null,
   "id": "4a184983-24ea-4767-a91b-9ea126cef59f",
   "metadata": {},
   "outputs": [],
   "source": []
  },
  {
   "cell_type": "code",
   "execution_count": null,
   "id": "20bbd269-6c6d-4a1e-850a-620aa671cc32",
   "metadata": {},
   "outputs": [],
   "source": []
  },
  {
   "cell_type": "code",
   "execution_count": null,
   "id": "81fd5e3f-4bb4-4c30-922e-10f9a73e8f57",
   "metadata": {},
   "outputs": [],
   "source": []
  },
  {
   "cell_type": "code",
   "execution_count": null,
   "id": "07da6eea-d01f-48da-b0c5-fcdc766943c7",
   "metadata": {},
   "outputs": [],
   "source": []
  },
  {
   "cell_type": "code",
   "execution_count": null,
   "id": "33226760-945c-45d6-936c-4f27a7d329b0",
   "metadata": {},
   "outputs": [],
   "source": []
  },
  {
   "cell_type": "code",
   "execution_count": null,
   "id": "df88e825-b9eb-4926-8abf-2004fa2f6db2",
   "metadata": {},
   "outputs": [],
   "source": []
  },
  {
   "cell_type": "code",
   "execution_count": null,
   "id": "5de4793d-1436-43ce-8b07-e0db45b11d0a",
   "metadata": {},
   "outputs": [],
   "source": []
  },
  {
   "cell_type": "code",
   "execution_count": null,
   "id": "94c6fbce-e7a9-4543-a1b5-6f3f3ec21759",
   "metadata": {},
   "outputs": [],
   "source": []
  },
  {
   "cell_type": "code",
   "execution_count": null,
   "id": "8a203304-e812-4a3f-bd5f-35fde4357487",
   "metadata": {},
   "outputs": [],
   "source": []
  },
  {
   "cell_type": "code",
   "execution_count": null,
   "id": "e6806a3c-944c-4ad5-a00f-c0cd549ac526",
   "metadata": {},
   "outputs": [],
   "source": []
  },
  {
   "cell_type": "code",
   "execution_count": null,
   "id": "7faa8626-64d1-4033-9dea-3497ecb38c8d",
   "metadata": {},
   "outputs": [],
   "source": []
  }
 ],
 "metadata": {
  "kernelspec": {
   "display_name": "Python [conda env:base] *",
   "language": "python",
   "name": "conda-base-py"
  },
  "language_info": {
   "codemirror_mode": {
    "name": "ipython",
    "version": 3
   },
   "file_extension": ".py",
   "mimetype": "text/x-python",
   "name": "python",
   "nbconvert_exporter": "python",
   "pygments_lexer": "ipython3",
   "version": "3.12.7"
  }
 },
 "nbformat": 4,
 "nbformat_minor": 5
}
